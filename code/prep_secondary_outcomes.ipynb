{
 "cells": [
  {
   "cell_type": "code",
   "execution_count": 1,
   "metadata": {},
   "outputs": [],
   "source": [
    "%load_ext autoreload\n",
    "%autoreload 2"
   ]
  },
  {
   "cell_type": "code",
   "execution_count": 2,
   "metadata": {},
   "outputs": [],
   "source": [
    "import pandas as pd\n",
    "import numpy as np"
   ]
  },
  {
   "cell_type": "code",
   "execution_count": 3,
   "metadata": {},
   "outputs": [],
   "source": [
    "train_set = pd.read_csv('../data/train_set.csv').values.flatten().tolist()\n",
    "val_set = pd.read_csv('../data/val_set.csv').values.flatten().tolist()\n",
    "train_val_set = train_set + val_set\n",
    "\n",
    "internal_test_set = pd.read_csv('../data/internal_test_set.csv').values.flatten().tolist()\n",
    "external_test_set = pd.read_csv('../data/external_test_set.csv').values.flatten().tolist()\n",
    "\n",
    "useable_patients = pd.read_csv('../data/all_study_patients.csv').values.flatten().tolist()\n",
    "\n",
    "secondary_outcome_df = pd.read_csv('../data/HEALAnalysisDatabase_DATA_LABELS_2022-05-10_1416.csv')\n",
    "\n",
    "# Fix ids\n",
    "secondary_outcome_df['studyid'] = secondary_outcome_df['studyid'].str.replace('-', '')\n",
    "secondary_outcome_df = secondary_outcome_df.loc[secondary_outcome_df['studyid'].isin(useable_patients)]"
   ]
  },
  {
   "cell_type": "code",
   "execution_count": 4,
   "metadata": {},
   "outputs": [],
   "source": [
    "secondary_outcome_cols = [\n",
    "    'hieseverity',\n",
    "    'primary_all',\n",
    "    'secondary_all',\n",
    "    'death24m',\n",
    "    'anyndi',\n",
    "    'mod2sevndi',\n",
    "    'sevndi',\n",
    "]"
   ]
  },
  {
   "cell_type": "code",
   "execution_count": 5,
   "metadata": {},
   "outputs": [
    {
     "name": "stdout",
     "output_type": "stream",
     "text": [
      "hieseverity\n",
      "Moderate    323\n",
      "Severe       91\n",
      "Name: count, dtype: int64\n",
      "-----\n",
      "primary_all\n",
      "No death or NDI    216\n",
      "Death or NDI       198\n",
      "Name: count, dtype: int64\n",
      "-----\n",
      "secondary_all\n",
      "Normal                    216\n",
      "Moderate to Severe NDI    111\n",
      "Mild NDI                   51\n",
      "Died                       36\n",
      "Name: count, dtype: int64\n",
      "-----\n",
      "death24m\n",
      "No     378\n",
      "Yes     36\n",
      "Name: count, dtype: int64\n",
      "-----\n",
      "anyndi\n",
      "No NDI     210\n",
      "Any NDI    157\n",
      "Name: count, dtype: int64\n",
      "-----\n",
      "mod2sevndi\n",
      "No Moderate to Severe NDI    254\n",
      "Moderate to Severe NDI       112\n",
      "Name: count, dtype: int64\n",
      "-----\n",
      "sevndi\n",
      "No Severe NDI    314\n",
      "Severe NDI        53\n",
      "Name: count, dtype: int64\n",
      "-----\n"
     ]
    }
   ],
   "source": [
    "for col in secondary_outcome_cols:\n",
    "    print(secondary_outcome_df[col].value_counts())\n",
    "    print('-----')"
   ]
  },
  {
   "cell_type": "code",
   "execution_count": 6,
   "metadata": {},
   "outputs": [
    {
     "data": {
      "text/plain": [
       "[]"
      ]
     },
     "execution_count": 6,
     "metadata": {},
     "output_type": "execute_result"
    }
   ],
   "source": [
    "no_mitt = secondary_outcome_df.loc[secondary_outcome_df['mittflag'] == 'Do not include in mITT analysis', 'studyid'].str.replace('-', '')\n",
    "\n",
    "[x for x in useable_patients if  x in (no_mitt)]"
   ]
  },
  {
   "cell_type": "code",
   "execution_count": 7,
   "metadata": {},
   "outputs": [],
   "source": [
    "# Need to change outcomes to binary\n",
    "new_secondary_outcome_df = pd.DataFrame()\n",
    "new_secondary_outcome_df['studyid'] = secondary_outcome_df['studyid'].copy()\n",
    "new_secondary_outcome_df['secondary_all'] = secondary_outcome_df['secondary_all'].copy()\n",
    "\n",
    "# One mislabel which can be seen on GMFCS to confirm severe NDI\n",
    "new_secondary_outcome_df.loc[new_secondary_outcome_df['studyid'] == 'CLA204', 'secondary_all'] = 'Moderate to Severe NDI'\n",
    "\n",
    "new_secondary_outcome_df['severe_hieseverity'] = secondary_outcome_df['hieseverity'].copy()\n",
    "new_secondary_outcome_df.loc[new_secondary_outcome_df['severe_hieseverity'] == 'Moderate', 'severe_hieseverity'] = 0\n",
    "new_secondary_outcome_df.loc[new_secondary_outcome_df['severe_hieseverity'] == 'Severe', 'severe_hieseverity'] = 1\n",
    "\n",
    "new_secondary_outcome_df['death24m'] = secondary_outcome_df['death24m'].copy()\n",
    "new_secondary_outcome_df.loc[new_secondary_outcome_df['death24m'] == 'No', 'death24m'] = 0\n",
    "new_secondary_outcome_df.loc[new_secondary_outcome_df['death24m'] == 'Yes', 'death24m'] = 1\n",
    "\n",
    "new_secondary_outcome_df['death_or_mod2sevndi'] = secondary_outcome_df['mod2sevndi'].copy()\n",
    "new_secondary_outcome_df.loc[new_secondary_outcome_df['death_or_mod2sevndi'] == 'No Moderate to Severe NDI', 'death_or_mod2sevndi'] = 0\n",
    "new_secondary_outcome_df.loc[new_secondary_outcome_df['death_or_mod2sevndi'] == 'Moderate to Severe NDI', 'death_or_mod2sevndi'] = 1\n",
    "new_secondary_outcome_df.loc[new_secondary_outcome_df['secondary_all'] == 'Died', 'death_or_mod2sevndi'] = 1\n",
    "new_secondary_outcome_df['death_or_mod2sevndi'] = new_secondary_outcome_df['death_or_mod2sevndi'].fillna(value=0) # leftover are mild or normal\n",
    "\n",
    "new_secondary_outcome_df['death_or_sevndi'] = secondary_outcome_df['sevndi'].copy()\n",
    "new_secondary_outcome_df.loc[new_secondary_outcome_df['death_or_sevndi'] == 'No Severe NDI', 'death_or_sevndi'] = 0\n",
    "new_secondary_outcome_df.loc[new_secondary_outcome_df['death_or_sevndi'] == 'Severe NDI', 'death_or_sevndi'] = 1\n",
    "new_secondary_outcome_df.loc[new_secondary_outcome_df['secondary_all'] == 'Died', 'death_or_sevndi'] = 1\n",
    "new_secondary_outcome_df['death_or_sevndi'] = new_secondary_outcome_df['death_or_sevndi'].fillna(value=0) # same as above"
   ]
  },
  {
   "cell_type": "code",
   "execution_count": 8,
   "metadata": {},
   "outputs": [],
   "source": [
    "outcomes_df = pd.read_csv('../data/outcomes_updated.csv')\n",
    "outcomes_df = outcomes_df.loc[outcomes_df['studyid'].isin(useable_patients)]"
   ]
  },
  {
   "cell_type": "code",
   "execution_count": 9,
   "metadata": {},
   "outputs": [],
   "source": [
    "outcomes_df = outcomes_df.merge(\n",
    "    new_secondary_outcome_df,\n",
    "    how='inner', on='studyid'\n",
    ")"
   ]
  },
  {
   "cell_type": "code",
   "execution_count": 10,
   "metadata": {},
   "outputs": [],
   "source": [
    "outcomes_df.to_csv('../data/outcomes_with_secondary_updated.csv', index=False)"
   ]
  }
 ],
 "metadata": {
  "kernelspec": {
   "display_name": "base",
   "language": "python",
   "name": "python3"
  },
  "language_info": {
   "codemirror_mode": {
    "name": "ipython",
    "version": 3
   },
   "file_extension": ".py",
   "mimetype": "text/x-python",
   "name": "python",
   "nbconvert_exporter": "python",
   "pygments_lexer": "ipython3",
   "version": "3.10.11"
  }
 },
 "nbformat": 4,
 "nbformat_minor": 2
}

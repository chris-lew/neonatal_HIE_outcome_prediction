{
 "cells": [
  {
   "cell_type": "code",
   "execution_count": 2,
   "metadata": {},
   "outputs": [],
   "source": [
    "import pandas as pd\n",
    "import numpy as np\n",
    "import matplotlib.pyplot as plt\n",
    "from pathlib import Path\n",
    "import os\n",
    "\n",
    "np.random.seed(11)"
   ]
  },
  {
   "cell_type": "markdown",
   "metadata": {},
   "source": [
    "### Creating Splits"
   ]
  },
  {
   "cell_type": "code",
   "execution_count": 5,
   "metadata": {},
   "outputs": [
    {
     "name": "stdout",
     "output_type": "stream",
     "text": [
      "Total number of patients: 501\n",
      "Number of patients with imaging that passes QC: 430\n",
      "Number of patients with outcome data: 480\n",
      "Number of patients with some missing data: 0\n",
      "\n",
      "Patients with images that pass QC and outcome data: 414\n"
     ]
    }
   ],
   "source": [
    "# Load in dataframes with patients that pass QC test and outcomes_df data\n",
    "\n",
    "heal_qc = pd.read_csv('../data/HEAL QC - QC List.csv')\n",
    "outcomes_df = pd.read_csv('../data/outcomes.csv')\n",
    "\n",
    "# Get subjects that pass QC\n",
    "pass_qc = heal_qc.loc[heal_qc['AI Include'], 'Study ID']\n",
    "\n",
    "# Keep only subject with outcomes data; some patients were lost to followup in HEAL study\n",
    "has_outcome = outcomes_df.loc[pd.isna(outcomes_df['primary_all']) == False, 'studyid']\n",
    "\n",
    "# Get intersection of passing QC patients with outcomes\n",
    "useable_pts = sorted(list(set(pass_qc) & set(has_outcome)))\n",
    "useable_df = outcomes_df.loc[outcomes_df['studyid'].isin(useable_pts)]\n",
    "\n",
    "# Finally verify that all the files we need are present\n",
    "base_dir = Path('../ext_storage/mri_data/all/')\n",
    "\n",
    "sequence_suffixes = ['T1_wm', 'T2_wm', 'DTI_eddy_MD_wm', 'DTI_eddy_trace_wm', 'DTI_eddy_FA_wm']\n",
    "missing_subjects = []\n",
    "\n",
    "# If any file is missing we cannot use the subject\n",
    "for subject in useable_pts:\n",
    "    for sequence in sequence_suffixes:\n",
    "        if not os.path.isfile(base_dir / f'{subject}/{subject}_{sequence}.nii.gz'):\n",
    "            print('Missing:', base_dir / f'{subject}/{subject}_{sequence}.nii.gz')\n",
    "\n",
    "            missing_subjects.append(subject)\n",
    "\n",
    "useable_df = useable_df.loc[~useable_df['studyid'].isin(missing_subjects)]\n",
    "useable_pts = useable_df['studyid']\n",
    "\n",
    "print(f'Total number of patients: {len(outcomes_df)}')\n",
    "print(f'Number of patients with imaging that passes QC: {len(pass_qc)}')\n",
    "print(f'Number of patients with outcome data: {len(has_outcome)}')\n",
    "print(f'Number of patients with some missing data: {len(missing_subjects)}')\n",
    "print()\n",
    "print(f'Patients with images that pass QC and outcome data: {len(useable_df)}')\n"
   ]
  },
  {
   "cell_type": "code",
   "execution_count": 6,
   "metadata": {},
   "outputs": [
    {
     "name": "stdout",
     "output_type": "stream",
     "text": [
      "Number of institutions: 17\n"
     ]
    },
    {
     "data": {
      "text/plain": [
       "institution_code\n",
       "NCH    47\n",
       "CNM    39\n",
       "STA    34\n",
       "CHM    29\n",
       "WUS    29\n",
       "UOW    28\n",
       "CLA    26\n",
       "IND    25\n",
       "UCF    25\n",
       "DAL    22\n",
       "FTW    22\n",
       "CHP    20\n",
       "STX    16\n",
       "PIT    15\n",
       "VCH    15\n",
       "CCH    14\n",
       "UOU     8\n",
       "Name: count, dtype: int64"
      ]
     },
     "metadata": {},
     "output_type": "display_data"
    },
    {
     "data": {
      "text/plain": [
       "institution_code\n",
       "NCH    11.352657\n",
       "CNM     9.420290\n",
       "STA     8.212560\n",
       "CHM     7.004831\n",
       "WUS     7.004831\n",
       "UOW     6.763285\n",
       "CLA     6.280193\n",
       "IND     6.038647\n",
       "UCF     6.038647\n",
       "DAL     5.314010\n",
       "FTW     5.314010\n",
       "CHP     4.830918\n",
       "STX     3.864734\n",
       "PIT     3.623188\n",
       "VCH     3.623188\n",
       "CCH     3.381643\n",
       "UOU     1.932367\n",
       "Name: count, dtype: float64"
      ]
     },
     "metadata": {},
     "output_type": "display_data"
    }
   ],
   "source": [
    "# Get institution codes\n",
    "useable_df.loc[:, 'institution_code'] = useable_df['studyid'].str[0:3]\n",
    "\n",
    "institution_count = useable_df['institution_code'].nunique()\n",
    "\n",
    "print(f'Number of institutions: {institution_count}')\n",
    "\n",
    "# See numbers for each institution\n",
    "display(useable_df['institution_code'].value_counts())\n",
    "\n",
    "# Percent\n",
    "display(useable_df['institution_code'].value_counts() / len(useable_df) * 100)"
   ]
  },
  {
   "cell_type": "code",
   "execution_count": 7,
   "metadata": {},
   "outputs": [
    {
     "name": "stdout",
     "output_type": "stream",
     "text": [
      "External test set count: 41\n"
     ]
    }
   ],
   "source": [
    "# Goal is to have a test set of 20% of data, half from one institution and half otherwise randomly selected\n",
    "# So we will use IND + STX institutions\n",
    "chosen_institutions = ['IND', 'STX']\n",
    "\n",
    "institution_test_set = useable_df.loc[useable_df['institution_code'].isin(chosen_institutions)]\n",
    "institution_test_set_pts = institution_test_set['studyid']\n",
    "\n",
    "print(f'External test set count: {len(institution_test_set)}')\n",
    "\n",
    "exclude_institution = useable_df.loc[~(useable_df['institution_code'].isin(chosen_institutions))]\n",
    "\n",
    "# Grab remaining of 20% from the rest of the pts\n",
    "total_test_count = int(round(len(useable_df) * 0.20, 0))\n",
    "remaining_test_count = total_test_count - len(institution_test_set)"
   ]
  },
  {
   "cell_type": "code",
   "execution_count": 8,
   "metadata": {},
   "outputs": [
    {
     "name": "stdout",
     "output_type": "stream",
     "text": [
      "NCH 5\n",
      "CNM 4\n",
      "STA 4\n",
      "CHM 3\n",
      "WUS 3\n",
      "UOW 3\n",
      "CLA 3\n",
      "UCF 3\n",
      "DAL 2\n",
      "FTW 2\n",
      "CHP 2\n",
      "PIT 2\n",
      "VCH 2\n",
      "CCH 2\n",
      "UOU 1\n",
      "Internal test set count: 41\n"
     ]
    }
   ],
   "source": [
    "# Next we will randomly select patients to form internal test set, stratified\n",
    "# across the different institutions so all institutions are still represented. \n",
    "\n",
    "internal_test_set = []\n",
    "\n",
    "for institution_key, count in exclude_institution['institution_code'].value_counts().items():\n",
    "    # Get number of patients to sample\n",
    "    n = int(round((count / len(exclude_institution)) * remaining_test_count, 0))\n",
    "    print(institution_key, n)\n",
    "    \n",
    "    internal_test_set.append(\n",
    "        exclude_institution.loc[exclude_institution['institution_code'] == institution_key].sample(n=n)\n",
    "    )\n",
    "\n",
    "internal_test_set = pd.concat(internal_test_set)\n",
    "internal_test_set_pts = internal_test_set['studyid']\n",
    "print(f'Internal test set count: {len(internal_test_set)}')"
   ]
  },
  {
   "cell_type": "code",
   "execution_count": 15,
   "metadata": {},
   "outputs": [
    {
     "name": "stdout",
     "output_type": "stream",
     "text": [
      "NCH 8\n",
      "CNM 7\n",
      "STA 6\n",
      "CHM 5\n",
      "WUS 5\n",
      "UOW 5\n",
      "CLA 5\n",
      "UCF 4\n",
      "DAL 4\n",
      "FTW 4\n",
      "CHP 4\n",
      "PIT 3\n",
      "VCH 3\n",
      "CCH 2\n",
      "UOU 1\n",
      "Val set count: 66\n"
     ]
    }
   ],
   "source": [
    "# Next also randomly stratify for validation\n",
    "\n",
    "exclude_testing = useable_df.loc[~(\n",
    "    (useable_df['studyid'].isin(institution_test_set_pts)) |\n",
    "    (useable_df['studyid'].isin(internal_test_set_pts)))\n",
    "]\n",
    "\n",
    "val_count = int(len(exclude_testing) * 0.20)\n",
    "\n",
    "val_set = []\n",
    "\n",
    "for institution_key, count in exclude_testing['institution_code'].value_counts().items():\n",
    "    # Get number of patients to sample\n",
    "    n = int(round((count / len(exclude_testing)) * val_count, 0))\n",
    "    print(institution_key, n)\n",
    "    \n",
    "    val_set.append(\n",
    "        exclude_testing.loc[exclude_testing['institution_code'] == institution_key].sample(n=n)\n",
    "    )\n",
    "\n",
    "val_set = pd.concat(val_set)\n",
    "val_set_pts = val_set['studyid']\n",
    "print(f'Val set count: {len(val_set)}')\n"
   ]
  },
  {
   "cell_type": "code",
   "execution_count": 16,
   "metadata": {},
   "outputs": [
    {
     "name": "stdout",
     "output_type": "stream",
     "text": [
      "Train set count: 266\n"
     ]
    }
   ],
   "source": [
    "# Remaining are for training\n",
    "\n",
    "train_set = exclude_testing.loc[~(exclude_testing['studyid'].isin(val_set_pts))]\n",
    "train_set_pts = train_set['studyid']\n",
    "\n",
    "print(f'Train set count: {len(train_set)}')"
   ]
  },
  {
   "cell_type": "code",
   "execution_count": 17,
   "metadata": {},
   "outputs": [
    {
     "data": {
      "image/png": "[encoded data removed]",
      "text/plain": [
       "<Figure size 640x480 with 1 Axes>"
      ]
     },
     "metadata": {},
     "output_type": "display_data"
    },
    {
     "name": "stdout",
     "output_type": "stream",
     "text": [
      "Total: 414\n",
      "Train set count: 266\n",
      "Val set count: 66\n",
      "Interal Test set count: 41\n",
      "External Test set count: 41\n"
     ]
    }
   ],
   "source": [
    "labels = ['Train', 'Val', 'Internal Test', 'External Test']\n",
    "sizes = [len(train_set), len(val_set), len(internal_test_set), len(institution_test_set)]\n",
    "\n",
    "plt.pie(sizes, labels=labels, autopct = '%1.1f%%')\n",
    "plt.show()\n",
    "\n",
    "print(f'Total: {len(useable_df)}')\n",
    "print(f'Train set count: {len(train_set)}')\n",
    "print(f'Val set count: {len(val_set)}')\n",
    "print(f'Interal Test set count: {len(internal_test_set)}')\n",
    "print(f'External Test set count: {len(institution_test_set)}')"
   ]
  },
  {
   "cell_type": "code",
   "execution_count": 18,
   "metadata": {},
   "outputs": [],
   "source": [
    "# Save sets\n",
    "useable_pts.to_csv('../data/all_study_patients.csv', index=False)\n",
    "train_set_pts.to_csv('../data/train_set.csv', index=False)\n",
    "val_set_pts.to_csv('../data/val_set.csv', index=False)\n",
    "institution_test_set_pts.to_csv('../data/external_test_set.csv', index=False)\n",
    "internal_test_set_pts.to_csv('../data/internal_test_set.csv', index=False)"
   ]
  },
  {
   "cell_type": "markdown",
   "metadata": {},
   "source": [
    "### Tabular Data"
   ]
  },
  {
   "cell_type": "code",
   "execution_count": 20,
   "metadata": {},
   "outputs": [],
   "source": [
    "from sklearn.preprocessing import MinMaxScaler, StandardScaler"
   ]
  },
  {
   "cell_type": "code",
   "execution_count": 21,
   "metadata": {},
   "outputs": [],
   "source": [
    "import nibabel as nib\n",
    "from pathlib import Path\n",
    "import numpy as np\n",
    "\n",
    "outcomes_df = pd.read_csv('../data/outcomes.csv')\n",
    "train_set_pts = pd.read_csv('../data/train_set.csv').values.flatten().tolist()\n",
    "data_dir = Path('../ext_storage/mri_data/all/')\n",
    "\n",
    "total_brain_injury_list = []\n",
    "\n",
    "for subject in outcomes_df['studyid']:\n",
    "    try:\n",
    "    \n",
    "        img = nib.load(data_dir / f'{subject}/{subject}_ADC-mask.nii.gz').get_fdata()\n",
    "        total_brain_injury_list.append(np.sum(img))\n",
    "\n",
    "    except:\n",
    "\n",
    "        total_brain_injury_list.append(np.nan)\n",
    "\n",
    "outcomes_df['total_brain_injury_volume'] = total_brain_injury_list"
   ]
  },
  {
   "cell_type": "code",
   "execution_count": 22,
   "metadata": {},
   "outputs": [],
   "source": [
    "outcome_train_subset = outcomes_df.loc[outcomes_df['studyid'].isin(train_set_pts)]"
   ]
  },
  {
   "cell_type": "code",
   "execution_count": 23,
   "metadata": {},
   "outputs": [],
   "source": [
    "# Normalize whole outcome_df based on train\n",
    "\n",
    "features = ['inf_gestage', 'total_brain_injury_volume']\n",
    "\n",
    "for feature in features:\n",
    "\n",
    "    z_score_scaler = StandardScaler()\n",
    "    z_score_scaler.fit(outcome_train_subset[[feature]])\n",
    "    outcomes_df[[feature+'_zscore']] = z_score_scaler.transform(outcomes_df[[feature]])\n",
    "\n",
    "    min_max_scaler = MinMaxScaler()\n",
    "    min_max_scaler.fit(outcome_train_subset[[feature]])\n",
    "    outcomes_df[[feature+'_minmax']] = min_max_scaler.transform(outcomes_df[[feature]])"
   ]
  },
  {
   "cell_type": "code",
   "execution_count": 24,
   "metadata": {},
   "outputs": [
    {
     "name": "stdout",
     "output_type": "stream",
     "text": [
      "84\n"
     ]
    }
   ],
   "source": [
    "# Fill NA with zero\n",
    "# There's a bunch of with brain injury, but median is 0\n",
    "\n",
    "print(outcomes_df['total_brain_injury_volume'].isna().sum())\n",
    "\n",
    "outcomes_df['total_brain_injury_volume'] = outcomes_df['total_brain_injury_volume'].fillna(value=0)\n",
    "outcomes_df['total_brain_injury_volume_zscore'] = outcomes_df['total_brain_injury_volume_zscore'].fillna(value=0)\n",
    "outcomes_df['total_brain_injury_volume_minmax'] = outcomes_df['total_brain_injury_volume_minmax'].fillna(value=0)"
   ]
  },
  {
   "cell_type": "code",
   "execution_count": 25,
   "metadata": {},
   "outputs": [],
   "source": [
    "outcomes_df.to_csv('../data/outcomes_updated.csv', index=False)"
   ]
  },
  {
   "cell_type": "markdown",
   "metadata": {},
   "source": [
    "### Preprocess Image Data"
   ]
  },
  {
   "cell_type": "code",
   "execution_count": 3,
   "metadata": {},
   "outputs": [],
   "source": [
    "useable_pts = pd.read_csv('../data/all_study_patients.csv').values.flatten().tolist()"
   ]
  },
  {
   "cell_type": "code",
   "execution_count": null,
   "metadata": {},
   "outputs": [],
   "source": [
    "import nibabel as nib\n",
    "import numpy as np\n",
    "\n",
    "# Taking a look at FA values for each \n",
    "\n",
    "# Finally verify that all the files we need are present\n",
    "base_dir = Path('../ext_storage/mri_data/all/')\n",
    "\n",
    "sequence_suffixes = ['DTI_eddy_FA_wm']\n",
    "missing_subjects = []\n",
    "\n",
    "# If any file is missing we cannot use the subject\n",
    "for subject in useable_pts:\n",
    "    for sequence in sequence_suffixes:\n",
    "        img = nib.load(base_dir / f'{subject}/{subject}_{sequence}.nii.gz').get_fdata()\n",
    "\n",
    "        img_nan = img.copy()\n",
    "        img_nan[img_nan == 0] = np.nan\n",
    "        print('{:.2f} - {:.2f}; {:.2f}/{:.2f}, {:.2f}. '.format(\n",
    "            np.min(img), np.max(img), np.nanmedian(img_nan), np.nanmean(img_nan), np.nanstd(img_nan)))\n",
    "        \n",
    "\n",
    "# Mean/median around 0.10-0.18 with stddev around 0.5-0.7\n",
    "# Output cleared for cleanliness"
   ]
  },
  {
   "cell_type": "code",
   "execution_count": null,
   "metadata": {},
   "outputs": [],
   "source": [
    "from preprocess import preprocess_image_data\n",
    "\n",
    "# All sequences\n",
    "# ['T1_wm', 'T2_wm', 'DTI_eddy_MD_wm', 'DTI_eddy_trace_wm', 'DTI_eddy_FA_wm']\n",
    "\n",
    "data_dir = '../ext_storage/mri_data/all/'\n",
    "base_save_dir = '../ext_storage/mri_data/preprocessed'\n",
    "\n",
    "check_shape = (181, 217, 181)\n",
    "reshape_shape = (96, 112, 96)\n",
    "dir_suffix = '' # No suffix since this is standard processing\n",
    "rot90_params = (0, 2)\n",
    "\n",
    "# T1 and T2 have the same method\n",
    "sequence_suffixes = ['T1_wm', 'T2_wm']\n",
    "preprocess_methods = ['N4BC', 'tight_crop', 'intensity_norm', 'z_score', 'reshape', 'rot90']\n",
    "\n",
    "preprocess_image_data(\n",
    "    data_dir,\n",
    "    sequence_suffixes,\n",
    "    base_save_dir,\n",
    "    useable_pts,\n",
    "    preprocess_methods = preprocess_methods,\n",
    "    dir_suffix = dir_suffix,\n",
    "    rot90_params = rot90_params,\n",
    "    reshape_shape = reshape_shape,\n",
    "    check_shape = check_shape\n",
    ")\n"
   ]
  },
  {
   "cell_type": "code",
   "execution_count": null,
   "metadata": {},
   "outputs": [],
   "source": [
    "\n",
    "# ADC from DTI needs a range and no N4BC\n",
    "sequence_suffixes = ['DTI_eddy_MD_wm']\n",
    "preprocess_methods = ['tight_crop', 'range_scale', 'reshape']\n",
    "range_scale_params = (0, 3000e-6)\n",
    "\n",
    "preprocess_image_data(\n",
    "    data_dir,\n",
    "    sequence_suffixes,\n",
    "    base_save_dir,\n",
    "    useable_pts,\n",
    "    preprocess_methods = preprocess_methods,\n",
    "    range_scale_params = range_scale_params,\n",
    "    dir_suffix = dir_suffix,\n",
    "    reshape_shape = reshape_shape,\n",
    "    check_shape = check_shape\n",
    ")\n"
   ]
  },
  {
   "cell_type": "code",
   "execution_count": 9,
   "metadata": {},
   "outputs": [
    {
     "name": "stderr",
     "output_type": "stream",
     "text": [
      "  3%|▎         | 13/412 [00:08<04:09,  1.60it/s]/opt/conda/lib/python3.10/site-packages/torchio/transforms/transform.py:163: RuntimeWarning: Output shape (96, 113, 96) != target shape (96, 112, 96). Fixing with CropOrPad\n",
      "  transformed = self.apply_transform(subject)\n",
      "100%|██████████| 412/412 [05:37<00:00,  1.22it/s]\n",
      "100%|██████████| 412/412 [05:49<00:00,  1.18it/s]\n"
     ]
    }
   ],
   "source": [
    "\n",
    "# Trace from DTI needs no N4BC\n",
    "sequence_suffixes = ['DTI_eddy_trace_wm']\n",
    "preprocess_methods = ['tight_crop', 'intensity_norm', 'z_score', 'reshape']\n",
    "\n",
    "preprocess_image_data(\n",
    "    data_dir,\n",
    "    sequence_suffixes,\n",
    "    base_save_dir,\n",
    "    useable_pts,\n",
    "    preprocess_methods = preprocess_methods,\n",
    "    dir_suffix = dir_suffix,\n",
    "    reshape_shape = reshape_shape,\n",
    "    check_shape = check_shape\n",
    ")\n",
    "\n",
    "# FA from DTI needs range and no N4BC\n",
    "sequence_suffixes = ['DTI_eddy_FA_wm']\n",
    "preprocess_methods = ['tight_crop', 'intensity_norm', 'z_score', 'reshape']\n",
    "range_scale_params = (0, 0.6)\n",
    "\n",
    "preprocess_image_data(\n",
    "    data_dir,\n",
    "    sequence_suffixes,\n",
    "    base_save_dir,\n",
    "    useable_pts,\n",
    "    preprocess_methods = preprocess_methods,\n",
    "    range_scale_params = range_scale_params,\n",
    "    dir_suffix = dir_suffix,\n",
    "    reshape_shape = reshape_shape,\n",
    "    check_shape = check_shape\n",
    ")"
   ]
  }
 ],
 "metadata": {
  "kernelspec": {
   "display_name": "base",
   "language": "python",
   "name": "python3"
  },
  "language_info": {
   "codemirror_mode": {
    "name": "ipython",
    "version": 3
   },
   "file_extension": ".py",
   "mimetype": "text/x-python",
   "name": "python",
   "nbconvert_exporter": "python",
   "pygments_lexer": "ipython3",
   "version": "3.10.11"
  },
  "orig_nbformat": 4
 },
 "nbformat": 4,
 "nbformat_minor": 2
}

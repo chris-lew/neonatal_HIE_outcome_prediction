{
 "cells": [
  {
   "cell_type": "code",
   "execution_count": 1,
   "metadata": {},
   "outputs": [],
   "source": [
    "%load_ext autoreload\n",
    "%autoreload 2"
   ]
  },
  {
   "cell_type": "code",
   "execution_count": 2,
   "metadata": {},
   "outputs": [],
   "source": [
    "from train_and_evaluate import predict_from_checkpoint_with_labels\n",
    "from training_utils import train_models_by_params\n",
    "\n",
    "import pandas as pd\n",
    "from sklearn.metrics import roc_auc_score\n",
    "from transforms import *\n"
   ]
  },
  {
   "cell_type": "code",
   "execution_count": 3,
   "metadata": {},
   "outputs": [],
   "source": [
    "train_set = pd.read_csv('../data/train_set.csv').values.flatten().tolist()\n",
    "val_set = pd.read_csv('../data/val_set.csv').values.flatten().tolist()\n",
    "\n",
    "ADC_dir = ['../ext_storage/mri_data/preprocessed/DTI_eddy_MD_wm']"
   ]
  },
  {
   "cell_type": "code",
   "execution_count": 5,
   "metadata": {},
   "outputs": [
    {
     "name": "stdout",
     "output_type": "stream",
     "text": [
      "{'basic_block_depth': 4,\n",
      " 'batch_size': 4,\n",
      " 'img_dirs': ['../ext_storage/mri_data/preprocessed/DTI_eddy_MD_wm'],\n",
      " 'learning_rate': 0.0003,\n",
      " 'total_epochs': 10,\n",
      " 'transforms': [Mirror()]}\n",
      "standard RUN version_2\n",
      "\n",
      "Loaded 291 images each with shape (1, 96, 112, 96)\n"
     ]
    },
    {
     "name": "stderr",
     "output_type": "stream",
     "text": [
      "/opt/conda/lib/python3.10/site-packages/torch/nn/modules/lazy.py:180: UserWarning: Lazy modules are a new feature under heavy development so changes to the API or functionality can happen at any moment.\n",
      "  warnings.warn('Lazy modules are a new feature under heavy development '\n",
      "Using 16bit Automatic Mixed Precision (AMP)\n",
      "GPU available: True (cuda), used: True\n",
      "TPU available: False, using: 0 TPU cores\n",
      "IPU available: False, using: 0 IPUs\n",
      "HPU available: False, using: 0 HPUs\n",
      "LOCAL_RANK: 0 - CUDA_VISIBLE_DEVICES: [0]\n",
      "\n",
      "  | Name        | Type           | Params\n",
      "-----------------------------------------------\n",
      "0 | net         | Basic3DCNN     | 425 K \n",
      "1 | train_acc   | BinaryAccuracy | 0     \n",
      "2 | train_auroc | BinaryAUROC    | 0     \n",
      "3 | val_acc     | BinaryAccuracy | 0     \n",
      "4 | val_auroc   | BinaryAUROC    | 0     \n",
      "5 | test_acc    | BinaryAccuracy | 0     \n",
      "6 | test_auroc  | BinaryAUROC    | 0     \n",
      "-----------------------------------------------\n",
      "425 K     Trainable params\n",
      "0         Non-trainable params\n",
      "425 K     Total params\n",
      "1.700     Total estimated model params size (MB)\n"
     ]
    },
    {
     "name": "stdout",
     "output_type": "stream",
     "text": [
      "Loaded 41 images each with shape (1, 96, 112, 96)\n"
     ]
    },
    {
     "data": {
      "application/vnd.jupyter.widget-view+json": {
       "model_id": "d96c070665a04fddb60e2a093fadb888",
       "version_major": 2,
       "version_minor": 0
      },
      "text/plain": [
       "Sanity Checking: 0it [00:00, ?it/s]"
      ]
     },
     "metadata": {},
     "output_type": "display_data"
    },
    {
     "data": {
      "application/vnd.jupyter.widget-view+json": {
       "model_id": "5e7ca4d2c1234dd1b67453ac6ee92b26",
       "version_major": 2,
       "version_minor": 0
      },
      "text/plain": [
       "Training: 0it [00:00, ?it/s]"
      ]
     },
     "metadata": {},
     "output_type": "display_data"
    },
    {
     "name": "stderr",
     "output_type": "stream",
     "text": [
      "/opt/conda/lib/python3.10/site-packages/torchmetrics/utilities/prints.py:43: UserWarning: No negative samples in targets, false positive value should be meaningless. Returning zero tensor in false positive score\n",
      "  warnings.warn(*args, **kwargs)  # noqa: B028\n",
      "/opt/conda/lib/python3.10/site-packages/torchmetrics/utilities/prints.py:43: UserWarning: No positive samples in targets, true positive value should be meaningless. Returning zero tensor in true positive score\n",
      "  warnings.warn(*args, **kwargs)  # noqa: B028\n"
     ]
    },
    {
     "data": {
      "application/vnd.jupyter.widget-view+json": {
       "model_id": "24c8529d260a453fbc5077092622097d",
       "version_major": 2,
       "version_minor": 0
      },
      "text/plain": [
       "Validation: 0it [00:00, ?it/s]"
      ]
     },
     "metadata": {},
     "output_type": "display_data"
    },
    {
     "data": {
      "application/vnd.jupyter.widget-view+json": {
       "model_id": "948f5fec57fb4f958284ce5ca89940cd",
       "version_major": 2,
       "version_minor": 0
      },
      "text/plain": [
       "Validation: 0it [00:00, ?it/s]"
      ]
     },
     "metadata": {},
     "output_type": "display_data"
    },
    {
     "data": {
      "application/vnd.jupyter.widget-view+json": {
       "model_id": "bb053496ea27421781b89eacd7d9afa8",
       "version_major": 2,
       "version_minor": 0
      },
      "text/plain": [
       "Validation: 0it [00:00, ?it/s]"
      ]
     },
     "metadata": {},
     "output_type": "display_data"
    },
    {
     "data": {
      "application/vnd.jupyter.widget-view+json": {
       "model_id": "01d5571527ca4cafadaacd5dd00d561a",
       "version_major": 2,
       "version_minor": 0
      },
      "text/plain": [
       "Validation: 0it [00:00, ?it/s]"
      ]
     },
     "metadata": {},
     "output_type": "display_data"
    },
    {
     "data": {
      "application/vnd.jupyter.widget-view+json": {
       "model_id": "4ee09325098e4bf38ba7a2ab0cbaae16",
       "version_major": 2,
       "version_minor": 0
      },
      "text/plain": [
       "Validation: 0it [00:00, ?it/s]"
      ]
     },
     "metadata": {},
     "output_type": "display_data"
    },
    {
     "data": {
      "application/vnd.jupyter.widget-view+json": {
       "model_id": "1d5d5f7ef8f64dea9de562eef91fb7f6",
       "version_major": 2,
       "version_minor": 0
      },
      "text/plain": [
       "Validation: 0it [00:00, ?it/s]"
      ]
     },
     "metadata": {},
     "output_type": "display_data"
    },
    {
     "data": {
      "application/vnd.jupyter.widget-view+json": {
       "model_id": "3b3c52f9564f4142aeae678a2e0b11d7",
       "version_major": 2,
       "version_minor": 0
      },
      "text/plain": [
       "Validation: 0it [00:00, ?it/s]"
      ]
     },
     "metadata": {},
     "output_type": "display_data"
    },
    {
     "data": {
      "application/vnd.jupyter.widget-view+json": {
       "model_id": "3a131617bab248b1bb47f8d6ad7bd40a",
       "version_major": 2,
       "version_minor": 0
      },
      "text/plain": [
       "Validation: 0it [00:00, ?it/s]"
      ]
     },
     "metadata": {},
     "output_type": "display_data"
    },
    {
     "data": {
      "application/vnd.jupyter.widget-view+json": {
       "model_id": "11a6f0185db54311ab9c235e6153ed09",
       "version_major": 2,
       "version_minor": 0
      },
      "text/plain": [
       "Validation: 0it [00:00, ?it/s]"
      ]
     },
     "metadata": {},
     "output_type": "display_data"
    },
    {
     "data": {
      "application/vnd.jupyter.widget-view+json": {
       "model_id": "751fb9fd4c454ad0b93d40357df1d117",
       "version_major": 2,
       "version_minor": 0
      },
      "text/plain": [
       "Validation: 0it [00:00, ?it/s]"
      ]
     },
     "metadata": {},
     "output_type": "display_data"
    },
    {
     "name": "stderr",
     "output_type": "stream",
     "text": [
      "`Trainer.fit` stopped: `max_epochs=10` reached.\n"
     ]
    },
    {
     "name": "stdout",
     "output_type": "stream",
     "text": [
      "Model trained from 2023-10-14 09:32 to 2023-10-14 09:34\n",
      "Time elapsed (hh:mm:ss.ms) 0:01:50.089171\n",
      "\n",
      "####################################################################################\n",
      "\n"
     ]
    }
   ],
   "source": [
    "runs = [\n",
    "    { # Version 0\n",
    "    'img_dirs': ADC_dir,\n",
    "    'transforms': TRAIN_TRANSFORMS_MIRROR_PROB,\n",
    "    'basic_block_depth': 4,\n",
    "\n",
    "    'total_epochs': 10,\n",
    "    'batch_size': 4,\n",
    "    'learning_rate': 3e-4,\n",
    "},\n",
    "]\n",
    "\n",
    "train_models_by_params(\n",
    "    train_set, \n",
    "    runs,\n",
    "    validation_set = val_set\n",
    ")"
   ]
  },
  {
   "cell_type": "code",
   "execution_count": 4,
   "metadata": {},
   "outputs": [
    {
     "name": "stdout",
     "output_type": "stream",
     "text": [
      "Loaded 41 images each with shape (1, 96, 112, 96)\n"
     ]
    },
    {
     "name": "stderr",
     "output_type": "stream",
     "text": [
      "/opt/conda/lib/python3.10/site-packages/torch/nn/modules/lazy.py:180: UserWarning: Lazy modules are a new feature under heavy development so changes to the API or functionality can happen at any moment.\n",
      "  warnings.warn('Lazy modules are a new feature under heavy development '\n",
      "Using 16bit Automatic Mixed Precision (AMP)\n",
      "GPU available: True (cuda), used: True\n",
      "TPU available: False, using: 0 TPU cores\n",
      "IPU available: False, using: 0 IPUs\n",
      "HPU available: False, using: 0 HPUs\n",
      "LOCAL_RANK: 0 - CUDA_VISIBLE_DEVICES: [0]\n"
     ]
    },
    {
     "data": {
      "application/vnd.jupyter.widget-view+json": {
       "model_id": "5ce85edf46304a038a0000a70363dcb0",
       "version_major": 2,
       "version_minor": 0
      },
      "text/plain": [
       "Predicting: 0it [00:00, ?it/s]"
      ]
     },
     "metadata": {},
     "output_type": "display_data"
    },
    {
     "name": "stdout",
     "output_type": "stream",
     "text": [
      "Model run from 2023-10-14 09:55 to 2023-10-14 09:55\n",
      "Time elapsed (hh:mm:ss.ms) 0:00:03.680176\n",
      "0.732843137254902\n"
     ]
    }
   ],
   "source": [
    "# Testing basic\n",
    "\n",
    "preds, test_labels = predict_from_checkpoint_with_labels(\n",
    "    checkpoint_path='../ext_storage/saved_models_storage/lightning_logs/version_0/checkpoints/last.ckpt',\n",
    "    subject_list=val_set,\n",
    "    img_dirs=ADC_dir,\n",
    "    net_architecture='basic',\n",
    "    basic_block_depth=4,\n",
    "    label_csv_columns = {'subject_col': 'studyid', 'label_col': 'primary_all'},\n",
    "    additional_feature_cols = None,\n",
    ")\n",
    "\n",
    "print(roc_auc_score(test_labels, preds))"
   ]
  },
  {
   "cell_type": "code",
   "execution_count": 6,
   "metadata": {},
   "outputs": [],
   "source": [
    "from monai.networks.nets.densenet import DenseNet121"
   ]
  },
  {
   "cell_type": "code",
   "execution_count": 7,
   "metadata": {},
   "outputs": [
    {
     "name": "stdout",
     "output_type": "stream",
     "text": [
      "Loaded 41 images each with shape (1, 96, 112, 96)\n"
     ]
    },
    {
     "name": "stderr",
     "output_type": "stream",
     "text": [
      "Using 16bit Automatic Mixed Precision (AMP)\n",
      "GPU available: True (cuda), used: True\n",
      "TPU available: False, using: 0 TPU cores\n",
      "IPU available: False, using: 0 IPUs\n",
      "HPU available: False, using: 0 HPUs\n",
      "LOCAL_RANK: 0 - CUDA_VISIBLE_DEVICES: [0]\n"
     ]
    },
    {
     "data": {
      "application/vnd.jupyter.widget-view+json": {
       "model_id": "fa979791c293483bb20d8a82f9b13dbc",
       "version_major": 2,
       "version_minor": 0
      },
      "text/plain": [
       "Predicting: 0it [00:00, ?it/s]"
      ]
     },
     "metadata": {},
     "output_type": "display_data"
    },
    {
     "name": "stdout",
     "output_type": "stream",
     "text": [
      "Model run from 2023-10-14 09:56 to 2023-10-14 09:56\n",
      "Time elapsed (hh:mm:ss.ms) 0:00:07.879368\n",
      "0.7254901960784315\n"
     ]
    }
   ],
   "source": [
    "# Testing dense\n",
    "\n",
    "preds, test_labels = predict_from_checkpoint_with_labels(\n",
    "    checkpoint_path='../ext_storage/saved_models_storage/lightning_logs_pre_9_18_23/version_281/checkpoints/last.ckpt',\n",
    "    subject_list=val_set,\n",
    "    img_dirs=['../ext_storage/mri_data/preprocessed/DTI_eddy_MD_wm'],\n",
    "    net_architecture='densenet',\n",
    "    densenet_class=DenseNet121,\n",
    "    label_csv_columns = {'subject_col': 'studyid', 'label_col': 'primary_all'},\n",
    "    additional_feature_cols = None,\n",
    ")\n",
    "\n",
    "print(roc_auc_score(test_labels, preds))"
   ]
  },
  {
   "cell_type": "code",
   "execution_count": 10,
   "metadata": {},
   "outputs": [],
   "source": [
    "base_path = '../ext_storage/saved_models_storage/lightning_logs_pre_9_18_23/version_{}/checkpoints/last.ckpt'\n",
    "\n",
    "basic_ADC_pretrained_path = base_path.format(6)\n",
    "basic_T1_pretrained_path = base_path.format(21)\n",
    "basic_T2_pretrained_path = base_path.format(36)\n",
    "basic_trace_pretrained_path = base_path.format(51)\n",
    "\n",
    "densenet_ADC_pretrained_path = base_path.format(281)\n",
    "densenet_T1_pretrained_path = base_path.format(291)\n",
    "densenet_T2_pretrained_path = base_path.format(301)\n",
    "densenet_trace_pretrained_path = base_path.format(311)\n",
    "\n",
    "LR_pretrained_path = base_path.format(366)\n",
    "\n",
    "\n",
    "ensemble_model_params = {\n",
    "    'cnn_model_list': [\n",
    "        ## Basic\n",
    "        # ADC\n",
    "        {\n",
    "            'pretrained_path': basic_ADC_pretrained_path, # Pretrained paths are optional\n",
    "            'net_architecture': 'basic',\n",
    "            'basic_block_depth': 4,\n",
    "            'dropout': 0.3,\n",
    "        },\n",
    "        # T1\n",
    "        {\n",
    "            'pretrained_path': basic_T1_pretrained_path,\n",
    "            'net_architecture': 'basic',\n",
    "            'basic_block_depth': 4,\n",
    "            'dropout': 0.3,\n",
    "        },\n",
    "        # T2\n",
    "        {\n",
    "            'pretrained_path': basic_T2_pretrained_path,\n",
    "            'net_architecture': 'basic',\n",
    "            'basic_block_depth': 4,\n",
    "            'dropout': 0.3,\n",
    "        },\n",
    "        # T3\n",
    "        {\n",
    "            'pretrained_path': basic_trace_pretrained_path,\n",
    "            'net_architecture': 'basic',\n",
    "            'basic_block_depth': 4,\n",
    "            'dropout': 0.3,\n",
    "        },\n",
    "\n",
    "        ## Dense\n",
    "        {\n",
    "            'pretrained_path': densenet_ADC_pretrained_path, # Pretrained paths are optional\n",
    "            'net_architecture': 'densenet',\n",
    "            'densenet_class': DenseNet121,\n",
    "        },\n",
    "        # T1\n",
    "        {\n",
    "            'pretrained_path': densenet_T1_pretrained_path,\n",
    "            'net_architecture': 'densenet',\n",
    "            'densenet_class': DenseNet121,\n",
    "        },\n",
    "        # T2\n",
    "        {\n",
    "            'pretrained_path': densenet_T2_pretrained_path,\n",
    "            'net_architecture': 'densenet',\n",
    "            'densenet_class': DenseNet121,\n",
    "        },\n",
    "        # T3\n",
    "        {\n",
    "            'pretrained_path': densenet_trace_pretrained_path,\n",
    "            'net_architecture': 'densenet',\n",
    "            'densenet_class': DenseNet121,\n",
    "        },\n",
    "    ],\n",
    "    'cnn_image_index_list': [\n",
    "        0, 1, 2, 3, 0, 1, 2, 3\n",
    "    ], # For each corresponding model in above list\n",
    "\n",
    "    'lr_model_list': [\n",
    "        {\n",
    "            'pretrained_path': LR_pretrained_path,\n",
    "            'net_architecture': 'logistic_regression',\n",
    "        },\n",
    "    ],\n",
    "}"
   ]
  },
  {
   "cell_type": "code",
   "execution_count": 11,
   "metadata": {},
   "outputs": [
    {
     "name": "stdout",
     "output_type": "stream",
     "text": [
      "Loaded 41 images each with shape (4, 96, 112, 96)\n"
     ]
    },
    {
     "name": "stderr",
     "output_type": "stream",
     "text": [
      "/opt/conda/lib/python3.10/site-packages/torch/nn/modules/lazy.py:180: UserWarning: Lazy modules are a new feature under heavy development so changes to the API or functionality can happen at any moment.\n",
      "  warnings.warn('Lazy modules are a new feature under heavy development '\n",
      "Using 16bit Automatic Mixed Precision (AMP)\n",
      "GPU available: True (cuda), used: True\n",
      "TPU available: False, using: 0 TPU cores\n",
      "IPU available: False, using: 0 IPUs\n",
      "HPU available: False, using: 0 HPUs\n",
      "LOCAL_RANK: 0 - CUDA_VISIBLE_DEVICES: [0]\n"
     ]
    },
    {
     "data": {
      "application/vnd.jupyter.widget-view+json": {
       "model_id": "b329a299f5d246698801f0faa8aa5f8b",
       "version_major": 2,
       "version_minor": 0
      },
      "text/plain": [
       "Predicting: 0it [00:00, ?it/s]"
      ]
     },
     "metadata": {},
     "output_type": "display_data"
    },
    {
     "name": "stdout",
     "output_type": "stream",
     "text": [
      "Model run from 2023-10-14 09:56 to 2023-10-14 09:57\n",
      "Time elapsed (hh:mm:ss.ms) 0:00:19.684135\n",
      "0.9877450980392157\n"
     ]
    }
   ],
   "source": [
    "# Testing dense\n",
    "\n",
    "preds, test_labels = predict_from_checkpoint_with_labels(\n",
    "    checkpoint_path='../ext_storage/saved_models_storage/lightning_logs_pre_9_18_23/version_381/checkpoints/last.ckpt',\n",
    "    subject_list=val_set,\n",
    "    img_dirs=['../ext_storage/mri_data/preprocessed/DTI_eddy_MD_wm',\n",
    "              '../ext_storage/mri_data/preprocessed/T1_wm',\n",
    "              '../ext_storage/mri_data/preprocessed/T2_wm',\n",
    "              '../ext_storage/mri_data/preprocessed/DTI_eddy_trace_wm'],\n",
    "    net_architecture='ensemble',\n",
    "    ensemble_model_params=ensemble_model_params,\n",
    "    label_csv_columns = {'subject_col': 'studyid', 'label_col': 'primary_all'},\n",
    "    additional_feature_cols = ['sex', 'txtassign', 'inf_gestage_zscore', 'total_brain_injury_volume_zscore', 'inf_gestage_minmax', 'total_brain_injury_volume_minmax'],\n",
    ")\n",
    "\n",
    "print(roc_auc_score(test_labels, preds))"
   ]
  },
  {
   "cell_type": "code",
   "execution_count": 1,
   "metadata": {},
   "outputs": [],
   "source": [
    "import pandas as pd"
   ]
  },
  {
   "cell_type": "code",
   "execution_count": 2,
   "metadata": {},
   "outputs": [],
   "source": [
    "df = pd.DataFrame()"
   ]
  },
  {
   "cell_type": "code",
   "execution_count": 3,
   "metadata": {},
   "outputs": [
    {
     "ename": "ValueError",
     "evalue": "Length of values (5) does not match length of index (4)",
     "output_type": "error",
     "traceback": [
      "\u001b[0;31m---------------------------------------------------------------------------\u001b[0m",
      "\u001b[0;31mValueError\u001b[0m                                Traceback (most recent call last)",
      "\u001b[1;32m/workspace/HEAL_ML/code/testing_predict.ipynb Cell 12\u001b[0m line \u001b[0;36m2\n\u001b[1;32m      <a href='vscode-notebook-cell://attached-container%2B7b22636f6e7461696e65724e616d65223a222f6865616c5f6d6c222c22637764223a22633a5c5c55736572735c5c6368726973227d/workspace/HEAL_ML/code/testing_predict.ipynb#X14sdnNjb2RlLXJlbW90ZQ%3D%3D?line=0'>1</a>\u001b[0m df[\u001b[39m'\u001b[39m\u001b[39mtest_0\u001b[39m\u001b[39m'\u001b[39m] \u001b[39m=\u001b[39m [\u001b[39m1\u001b[39m, \u001b[39m2\u001b[39m, \u001b[39m3\u001b[39m, \u001b[39m4\u001b[39m]\n\u001b[0;32m----> <a href='vscode-notebook-cell://attached-container%2B7b22636f6e7461696e65724e616d65223a222f6865616c5f6d6c222c22637764223a22633a5c5c55736572735c5c6368726973227d/workspace/HEAL_ML/code/testing_predict.ipynb#X14sdnNjb2RlLXJlbW90ZQ%3D%3D?line=1'>2</a>\u001b[0m df[\u001b[39m'\u001b[39m\u001b[39mtest_1\u001b[39m\u001b[39m'\u001b[39m] \u001b[39m=\u001b[39m [\u001b[39m0\u001b[39m, \u001b[39m1\u001b[39m, \u001b[39m2\u001b[39m, \u001b[39m3\u001b[39m, \u001b[39m5\u001b[39m]\n",
      "File \u001b[0;32m/opt/conda/lib/python3.10/site-packages/pandas/core/frame.py:4094\u001b[0m, in \u001b[0;36mDataFrame.__setitem__\u001b[0;34m(self, key, value)\u001b[0m\n\u001b[1;32m   4091\u001b[0m     \u001b[39mself\u001b[39m\u001b[39m.\u001b[39m_setitem_array([key], value)\n\u001b[1;32m   4092\u001b[0m \u001b[39melse\u001b[39;00m:\n\u001b[1;32m   4093\u001b[0m     \u001b[39m# set column\u001b[39;00m\n\u001b[0;32m-> 4094\u001b[0m     \u001b[39mself\u001b[39;49m\u001b[39m.\u001b[39;49m_set_item(key, value)\n",
      "File \u001b[0;32m/opt/conda/lib/python3.10/site-packages/pandas/core/frame.py:4303\u001b[0m, in \u001b[0;36mDataFrame._set_item\u001b[0;34m(self, key, value)\u001b[0m\n\u001b[1;32m   4293\u001b[0m \u001b[39mdef\u001b[39;00m \u001b[39m_set_item\u001b[39m(\u001b[39mself\u001b[39m, key, value) \u001b[39m-\u001b[39m\u001b[39m>\u001b[39m \u001b[39mNone\u001b[39;00m:\n\u001b[1;32m   4294\u001b[0m \u001b[39m    \u001b[39m\u001b[39m\"\"\"\u001b[39;00m\n\u001b[1;32m   4295\u001b[0m \u001b[39m    Add series to DataFrame in specified column.\u001b[39;00m\n\u001b[1;32m   4296\u001b[0m \n\u001b[0;32m   (...)\u001b[0m\n\u001b[1;32m   4301\u001b[0m \u001b[39m    ensure homogeneity.\u001b[39;00m\n\u001b[1;32m   4302\u001b[0m \u001b[39m    \"\"\"\u001b[39;00m\n\u001b[0;32m-> 4303\u001b[0m     value, refs \u001b[39m=\u001b[39m \u001b[39mself\u001b[39;49m\u001b[39m.\u001b[39;49m_sanitize_column(value)\n\u001b[1;32m   4305\u001b[0m     \u001b[39mif\u001b[39;00m (\n\u001b[1;32m   4306\u001b[0m         key \u001b[39min\u001b[39;00m \u001b[39mself\u001b[39m\u001b[39m.\u001b[39mcolumns\n\u001b[1;32m   4307\u001b[0m         \u001b[39mand\u001b[39;00m value\u001b[39m.\u001b[39mndim \u001b[39m==\u001b[39m \u001b[39m1\u001b[39m\n\u001b[1;32m   4308\u001b[0m         \u001b[39mand\u001b[39;00m \u001b[39mnot\u001b[39;00m \u001b[39misinstance\u001b[39m(value\u001b[39m.\u001b[39mdtype, ExtensionDtype)\n\u001b[1;32m   4309\u001b[0m     ):\n\u001b[1;32m   4310\u001b[0m         \u001b[39m# broadcast across multiple columns if necessary\u001b[39;00m\n\u001b[1;32m   4311\u001b[0m         \u001b[39mif\u001b[39;00m \u001b[39mnot\u001b[39;00m \u001b[39mself\u001b[39m\u001b[39m.\u001b[39mcolumns\u001b[39m.\u001b[39mis_unique \u001b[39mor\u001b[39;00m \u001b[39misinstance\u001b[39m(\u001b[39mself\u001b[39m\u001b[39m.\u001b[39mcolumns, MultiIndex):\n",
      "File \u001b[0;32m/opt/conda/lib/python3.10/site-packages/pandas/core/frame.py:5042\u001b[0m, in \u001b[0;36mDataFrame._sanitize_column\u001b[0;34m(self, value)\u001b[0m\n\u001b[1;32m   5039\u001b[0m     \u001b[39mreturn\u001b[39;00m _reindex_for_setitem(value, \u001b[39mself\u001b[39m\u001b[39m.\u001b[39mindex)\n\u001b[1;32m   5041\u001b[0m \u001b[39mif\u001b[39;00m is_list_like(value):\n\u001b[0;32m-> 5042\u001b[0m     com\u001b[39m.\u001b[39;49mrequire_length_match(value, \u001b[39mself\u001b[39;49m\u001b[39m.\u001b[39;49mindex)\n\u001b[1;32m   5043\u001b[0m \u001b[39mreturn\u001b[39;00m sanitize_array(value, \u001b[39mself\u001b[39m\u001b[39m.\u001b[39mindex, copy\u001b[39m=\u001b[39m\u001b[39mTrue\u001b[39;00m, allow_2d\u001b[39m=\u001b[39m\u001b[39mTrue\u001b[39;00m), \u001b[39mNone\u001b[39;00m\n",
      "File \u001b[0;32m/opt/conda/lib/python3.10/site-packages/pandas/core/common.py:561\u001b[0m, in \u001b[0;36mrequire_length_match\u001b[0;34m(data, index)\u001b[0m\n\u001b[1;32m    557\u001b[0m \u001b[39m\u001b[39m\u001b[39m\"\"\"\u001b[39;00m\n\u001b[1;32m    558\u001b[0m \u001b[39mCheck the length of data matches the length of the index.\u001b[39;00m\n\u001b[1;32m    559\u001b[0m \u001b[39m\"\"\"\u001b[39;00m\n\u001b[1;32m    560\u001b[0m \u001b[39mif\u001b[39;00m \u001b[39mlen\u001b[39m(data) \u001b[39m!=\u001b[39m \u001b[39mlen\u001b[39m(index):\n\u001b[0;32m--> 561\u001b[0m     \u001b[39mraise\u001b[39;00m \u001b[39mValueError\u001b[39;00m(\n\u001b[1;32m    562\u001b[0m         \u001b[39m\"\u001b[39m\u001b[39mLength of values \u001b[39m\u001b[39m\"\u001b[39m\n\u001b[1;32m    563\u001b[0m         \u001b[39mf\u001b[39m\u001b[39m\"\u001b[39m\u001b[39m(\u001b[39m\u001b[39m{\u001b[39;00m\u001b[39mlen\u001b[39m(data)\u001b[39m}\u001b[39;00m\u001b[39m) \u001b[39m\u001b[39m\"\u001b[39m\n\u001b[1;32m    564\u001b[0m         \u001b[39m\"\u001b[39m\u001b[39mdoes not match length of index \u001b[39m\u001b[39m\"\u001b[39m\n\u001b[1;32m    565\u001b[0m         \u001b[39mf\u001b[39m\u001b[39m\"\u001b[39m\u001b[39m(\u001b[39m\u001b[39m{\u001b[39;00m\u001b[39mlen\u001b[39m(index)\u001b[39m}\u001b[39;00m\u001b[39m)\u001b[39m\u001b[39m\"\u001b[39m\n\u001b[1;32m    566\u001b[0m     )\n",
      "\u001b[0;31mValueError\u001b[0m: Length of values (5) does not match length of index (4)"
     ]
    }
   ],
   "source": [
    "df['test_0'] = [1, 2, 3, 4]\n",
    "df['test_1'] = [0, 1, 2, 3, 5]"
   ]
  },
  {
   "cell_type": "code",
   "execution_count": 4,
   "metadata": {},
   "outputs": [
    {
     "data": {
      "text/html": [
       "<div>\n",
       "<style scoped>\n",
       "    .dataframe tbody tr th:only-of-type {\n",
       "        vertical-align: middle;\n",
       "    }\n",
       "\n",
       "    .dataframe tbody tr th {\n",
       "        vertical-align: top;\n",
       "    }\n",
       "\n",
       "    .dataframe thead th {\n",
       "        text-align: right;\n",
       "    }\n",
       "</style>\n",
       "<table border=\"1\" class=\"dataframe\">\n",
       "  <thead>\n",
       "    <tr style=\"text-align: right;\">\n",
       "      <th></th>\n",
       "      <th>test_0</th>\n",
       "    </tr>\n",
       "  </thead>\n",
       "  <tbody>\n",
       "    <tr>\n",
       "      <th>0</th>\n",
       "      <td>1</td>\n",
       "    </tr>\n",
       "    <tr>\n",
       "      <th>1</th>\n",
       "      <td>2</td>\n",
       "    </tr>\n",
       "    <tr>\n",
       "      <th>2</th>\n",
       "      <td>3</td>\n",
       "    </tr>\n",
       "    <tr>\n",
       "      <th>3</th>\n",
       "      <td>4</td>\n",
       "    </tr>\n",
       "  </tbody>\n",
       "</table>\n",
       "</div>"
      ],
      "text/plain": [
       "   test_0\n",
       "0       1\n",
       "1       2\n",
       "2       3\n",
       "3       4"
      ]
     },
     "execution_count": 4,
     "metadata": {},
     "output_type": "execute_result"
    }
   ],
   "source": [
    "df"
   ]
  },
  {
   "cell_type": "code",
   "execution_count": 5,
   "metadata": {},
   "outputs": [],
   "source": [
    "internal_test_set = pd.read_csv('../data/internal_test_set.csv').values.flatten().tolist()\n",
    "external_test_set = pd.read_csv('../data/external_test_set.csv').values.flatten().tolist()"
   ]
  },
  {
   "cell_type": "code",
   "execution_count": 7,
   "metadata": {},
   "outputs": [
    {
     "data": {
      "text/plain": [
       "41"
      ]
     },
     "execution_count": 7,
     "metadata": {},
     "output_type": "execute_result"
    }
   ],
   "source": [
    "len(internal_test_set)"
   ]
  },
  {
   "cell_type": "code",
   "execution_count": 9,
   "metadata": {},
   "outputs": [
    {
     "data": {
      "text/plain": [
       "41"
      ]
     },
     "execution_count": 9,
     "metadata": {},
     "output_type": "execute_result"
    }
   ],
   "source": [
    "len(external_test_set)"
   ]
  }
 ],
 "metadata": {
  "kernelspec": {
   "display_name": "base",
   "language": "python",
   "name": "python3"
  },
  "language_info": {
   "codemirror_mode": {
    "name": "ipython",
    "version": 3
   },
   "file_extension": ".py",
   "mimetype": "text/x-python",
   "name": "python",
   "nbconvert_exporter": "python",
   "pygments_lexer": "ipython3",
   "version": "3.10.11"
  }
 },
 "nbformat": 4,
 "nbformat_minor": 2
}
